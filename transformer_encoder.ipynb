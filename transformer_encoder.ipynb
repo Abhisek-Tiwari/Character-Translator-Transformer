{
 "cells": [
  {
   "metadata": {
    "ExecuteTime": {
     "end_time": "2025-07-28T14:33:16.768188Z",
     "start_time": "2025-07-28T14:33:16.692596Z"
    }
   },
   "cell_type": "code",
   "source": [
    "import math\n",
    "import torch\n",
    "from torch import nn\n",
    "from torch.nn import functional as F\n",
    "\n",
    "def scaled_masked_dot_product(Q, K, V, mask=None):\n",
    "    d_k = Q.size()[-1]\n",
    "    scaled = torch.matmul(Q, K.transpose(-1, -2)) / math.sqrt(d_k)\n",
    "    if mask is not None:\n",
    "        scaled += mask\n",
    "    attention = F.softmax(scaled, dim=-1)\n",
    "    newVal = torch.matmul(attention, V)\n",
    "    return newVal, attention\n",
    "\n",
    "\n",
    "class MultiheadAttention(nn.Module):\n",
    "    def __init__(self, d_model, num_heads):\n",
    "        super().__init__()\n",
    "        self.num_heads = num_heads\n",
    "        self.d_model = d_model\n",
    "        self.max_seq_len = max_seq_len\n",
    "        self.head_dim = d_model // num_heads\n",
    "        self.QKV_layer = nn.Linear(d_model, 3*d_model)\n",
    "        self.LinearLayer = nn.Linear(d_model, d_model)\n",
    "\n",
    "    def forward(self, x, mask=None):\n",
    "        batch_size, sequence_length, d_model = x.size()\n",
    "        QKV = self.QKV_layer(x)\n",
    "        QKV = QKV.reshape(batch_size, sequence_length, self.num_heads, 3*self.head_dim)\n",
    "        QKV = QKV.permute(0, 2, 1, 3)\n",
    "        Q, K, V = QKV.chunk(3, dim=-1)\n",
    "        values, attentions = scaled_masked_dot_product(Q, K, V, mask)\n",
    "        values = values.reshape(batch_size, sequence_length, self.num_heads * self.head_dim)\n",
    "        out = self.LinearLayer(values)\n",
    "        return out\n",
    "\n",
    "\n",
    "class LayerNormalization(nn.Module):\n",
    "    def __init__(self, parameters_shape, epsilon=1e-5):\n",
    "        super().__init__()\n",
    "        self.parameters_shape = parameters_shape\n",
    "        self.epsilon = epsilon\n",
    "        self.gamma = nn.Parameter(torch.ones(parameters_shape))\n",
    "        self.beta = nn.Parameter(torch.zeros(parameters_shape))\n",
    "\n",
    "    def forward(self, input):\n",
    "        dims = [-(i+1) for i in range(len(self.parameters_shape))]\n",
    "        mean = input.mean(dims, keepdim = True)\n",
    "        var = ((input-mean)**2).mean(dim=dims, keepdim = True)\n",
    "        std = (var+self.epsilon).sqrt()\n",
    "        y = (input-mean)/std\n",
    "        out = self.gamma*y + self.beta\n",
    "        return out\n",
    "\n",
    "\n",
    "class PositionalFeedForward(nn.Module):\n",
    "    def __init__(self, d_model, ffn_hidden, drop_prob=0.1):\n",
    "        super(PositionalFeedForward, self).__init__()\n",
    "        self.linear1 = nn.Linear(d_model, ffn_hidden)\n",
    "        self.linear2 = nn.Linear(ffn_hidden, d_model)\n",
    "        self.relu = nn.ReLU()\n",
    "        self.dropout = nn.Dropout(p=drop_prob)\n",
    "\n",
    "    def forward(self, x):\n",
    "        x = self.linear1(x)\n",
    "        x = self.relu(x)\n",
    "        x = self.dropout(x)\n",
    "        x = self.linear2(x)\n",
    "        return x\n",
    "\n",
    "\n",
    "class EncoderLayer(nn.Module):\n",
    "    def __init__(self, d_model, ffn_hidden, num_heads, drop_prob):\n",
    "        super(EncoderLayer, self).__init__()\n",
    "        self.attention = MultiheadAttention(d_model=d_model, num_heads= num_heads)\n",
    "        self.norm1 = LayerNormalization(parameters_shape=[d_model])\n",
    "        self.dropout1 = nn.Dropout(p=drop_prob)\n",
    "        self.ffn = PositionalFeedForward(d_model=d_model, ffn_hidden=ffn_hidden, drop_prob=drop_prob)\n",
    "        self.norm2 = LayerNormalization(parameters_shape=[d_model])\n",
    "        self.dropout2 = nn.Dropout(p=drop_prob)\n",
    "\n",
    "    def forward(self, x):\n",
    "        residual = x\n",
    "        x = self.attention(x, mask=None)\n",
    "        x = self.dropout1(x)\n",
    "        x = self.norm1(x+residual)\n",
    "        residual = x\n",
    "        x = self.ffn(x)\n",
    "        x = self.dropout2(x)\n",
    "        x = self.norm2(x+residual)\n",
    "        return x\n",
    "\n",
    "class Encoder(nn.Module):\n",
    "    def __init__(self, d_model, ffn_hidden, num_heads, drop_prob, num_layers):\n",
    "        super().__init__()\n",
    "        self.layers = nn.Sequential(*[EncoderLayer(d_model, ffn_hidden, num_heads, drop_prob) for _ in range(num_layers)])\n",
    "\n",
    "    def forward(self, x):\n",
    "        x = self.layers(x)\n",
    "        return x"
   ],
   "id": "3eed82a2fe2e3b30",
   "outputs": [],
   "execution_count": 37
  },
  {
   "metadata": {
    "ExecuteTime": {
     "end_time": "2025-07-28T14:33:17.871672Z",
     "start_time": "2025-07-28T14:33:17.702065Z"
    }
   },
   "cell_type": "code",
   "source": [
    "d_model = 512\n",
    "num_heads=8\n",
    "drop_prob = 0.1\n",
    "batch_size = 30\n",
    "max_seq_len = 200\n",
    "ffn_hidden = 2048\n",
    "num_layers = 5\n",
    "\n",
    "encoder = Encoder(d_model, ffn_hidden, num_heads, drop_prob, num_layers)"
   ],
   "id": "8195a6e10c1fdba0",
   "outputs": [],
   "execution_count": 38
  },
  {
   "metadata": {
    "ExecuteTime": {
     "end_time": "2025-07-28T14:33:18.606138Z",
     "start_time": "2025-07-28T14:33:18.547164Z"
    }
   },
   "cell_type": "code",
   "source": "x = torch.randn(batch_size, max_seq_len, d_model)",
   "id": "d33b185f2bd37a40",
   "outputs": [],
   "execution_count": 39
  },
  {
   "metadata": {
    "ExecuteTime": {
     "end_time": "2025-07-28T14:33:22.530374Z",
     "start_time": "2025-07-28T14:33:19.455403Z"
    }
   },
   "cell_type": "code",
   "source": [
    "x = encoder(x)\n",
    "x.size()"
   ],
   "id": "b3ae88f316ab9680",
   "outputs": [
    {
     "data": {
      "text/plain": [
       "torch.Size([30, 200, 512])"
      ]
     },
     "execution_count": 40,
     "metadata": {},
     "output_type": "execute_result"
    }
   ],
   "execution_count": 40
  },
  {
   "metadata": {},
   "cell_type": "code",
   "outputs": [],
   "execution_count": null,
   "source": "",
   "id": "7e7588e71fcb81d"
  }
 ],
 "metadata": {
  "kernelspec": {
   "display_name": "Python 3",
   "language": "python",
   "name": "python3"
  },
  "language_info": {
   "codemirror_mode": {
    "name": "ipython",
    "version": 2
   },
   "file_extension": ".py",
   "mimetype": "text/x-python",
   "name": "python",
   "nbconvert_exporter": "python",
   "pygments_lexer": "ipython2",
   "version": "2.7.6"
  }
 },
 "nbformat": 4,
 "nbformat_minor": 5
}
